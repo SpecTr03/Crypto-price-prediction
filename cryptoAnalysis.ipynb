{
 "cells": [
  {
   "cell_type": "code",
   "execution_count": 2,
   "metadata": {},
   "outputs": [],
   "source": [
    "import pandas as pd\n",
    "import numpy as np\n",
    "import matplotlib.pyplot as plt\n",
    "import seaborn as sns\n",
    "from scipy import stats\n",
    "from sklearn.preprocessing import MinMaxScaler, StandardScaler, OneHotEncoder\n",
    "from sklearn.impute import KNNImputer"
   ]
  },
  {
   "cell_type": "code",
   "execution_count": 7,
   "metadata": {},
   "outputs": [
    {
     "name": "stdout",
     "output_type": "stream",
     "text": [
      "<class 'pandas.core.frame.DataFrame'>\n",
      "RangeIndex: 14237 entries, 0 to 14236\n",
      "Data columns (total 10 columns):\n",
      " #   Column     Non-Null Count  Dtype  \n",
      "---  ------     --------------  -----  \n",
      " 0   SNo        14237 non-null  int64  \n",
      " 1   Name       14237 non-null  object \n",
      " 2   Symbol     14237 non-null  object \n",
      " 3   Date       14237 non-null  object \n",
      " 4   High       14237 non-null  float64\n",
      " 5   Low        14237 non-null  float64\n",
      " 6   Open       14237 non-null  float64\n",
      " 7   Close      14237 non-null  float64\n",
      " 8   Volume     14237 non-null  float64\n",
      " 9   Marketcap  14237 non-null  float64\n",
      "dtypes: float64(6), int64(1), object(3)\n",
      "memory usage: 1.1+ MB\n"
     ]
    }
   ],
   "source": [
    "df1 = pd.read_csv('./crypto_currencies/coin_Bitcoin.csv')\n",
    "df2 = pd.read_csv('./crypto_currencies/coin_Dogecoin.csv')\n",
    "df3 = pd.read_csv('./crypto_currencies/coin_Litecoin.csv')\n",
    "df4 = pd.read_csv('./crypto_currencies/coin_Monero.csv')\n",
    "df5 = pd.read_csv('./crypto_currencies/coin_XRP.csv')\n",
    "\n",
    "df = pd.concat([df1, df2, df3, df4, df5], ignore_index=True)\n",
    "df.info()"
   ]
  }
 ],
 "metadata": {
  "kernelspec": {
   "display_name": "venv",
   "language": "python",
   "name": "python3"
  },
  "language_info": {
   "codemirror_mode": {
    "name": "ipython",
    "version": 3
   },
   "file_extension": ".py",
   "mimetype": "text/x-python",
   "name": "python",
   "nbconvert_exporter": "python",
   "pygments_lexer": "ipython3",
   "version": "3.12.6"
  }
 },
 "nbformat": 4,
 "nbformat_minor": 2
}
